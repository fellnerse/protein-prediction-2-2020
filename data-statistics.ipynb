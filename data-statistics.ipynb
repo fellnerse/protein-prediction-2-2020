{
 "cells": [
  {
   "cell_type": "code",
   "execution_count": 1,
   "metadata": {},
   "outputs": [],
   "source": [
    "from Bio.SeqIO.FastaIO import SimpleFastaParser\n",
    "import pandas as pd"
   ]
  },
  {
   "cell_type": "code",
   "execution_count": 41,
   "metadata": {},
   "outputs": [
    {
     "data": {
      "text/plain": [
       "{'train':                                                  sequence  length\n",
       " Q6FIN4  MSSVQNKVETLVELFPDWKREDLLELVQEEKDTELEIIVEKITTGK...     592\n",
       " Q2V4F4  MAVSKTTMLIVLVAIILSCVSISNARQMQRPQNVECVGGECQPKHP...      91\n",
       " P52609  MVRTDAFFTENNINLVKKNPLHFDVNLFSSKSNAKDNDIKTFKDVL...     111\n",
       " P34301  MIVYSVFIFAVLAISSVTGIFLPGGGGKKCGGHGEYGSGVIIGAERPKK      49\n",
       " P40214  MEENKLSGNKPIQLATWSNQMGSPENNGNNANNGSDVQNVIQKALG...     342\n",
       " ...                                                   ...     ...\n",
       " Q96MC5  MELKQSLSTHLEAEKPLRRYGAVEETAWKTERLGRNQLDIISMAET...     204\n",
       " O42995  MDLMPLEKARAIEIAFDNVFHNTKIPDNLQQFDAILKRLERRRFIP...     112\n",
       " Q9P6M3  MSSHGDASVLPKIALESINDYSYVKSVFRQAIQEKLAIHLPEQASR...     210\n",
       " P30343  MTSPSPTARRTRLRRRTALALAAAATAALTLSACGTDTKANTPATR...     189\n",
       " Q9H1L0  MPSCSCALMAPCGPAAGPAAVERTQQVARGEPGSARGQLQVSPEMS...     117\n",
       " \n",
       " [33477 rows x 2 columns],\n",
       " 'test':                                                  sequence  length\n",
       " P37562  MMNDALTSLACSLKPGTTIKGKWNGNTYTLRKQLGKGANGIVYLAE...     338\n",
       " P44311  MQTDNNCIVIFGASGDLTHRKLIPALYNLYKIGRLSENFSVLGVAR...     494\n",
       " Q9PNQ6  MLEIGFCTLEDQCPYLKDKRSRIEYKYIENCPKEINNELIKRGWRR...     239\n",
       " P41476  MLHVSRLLANGGVKNLCDKFKVKIKNYTEHDLMVLNYESFERDRDH...     694\n",
       " P36214  MASQTLVSPSPLSSPSLLRTSFSGVSVKLAPQFSTLATSNFKPLTV...     201\n",
       " ...                                                   ...     ...\n",
       " Q37972  MSPSLFLGWGDDYFVVLWIHGRAVRLGRRQGVGRVIRVSLAMLILL...     367\n",
       " Q04395  MAYVPLSGSDVRIFSDVPFSNDYKNTRWFTSADAQYSYFNAKPRVH...     598\n",
       " O74809  MPHRNDRRKSASKAPNAIIHGRVASKKTIKKQLRNGKYSLKRLAEK...     105\n",
       " B4E9J1  MQPPGGDAPAGCPFSGARAAQPAQAAHEAPHVPGEADAQAGWHNAQ...     311\n",
       " P39622  MSAYLSNYWVLYRKYVELFDKLRYKGIPLGLISNFYQYISPELRVM...     474\n",
       " \n",
       " [500 rows x 2 columns],\n",
       " 'val':                                                  sequence  length\n",
       " Q2V3S8  MMNVSLKLSFLVFILVIMSNLGSEARELAGVNEIFEIAARSSNNAG...      83\n",
       " Q9VES1  MAASQVDQKRALNKLKHDLEPFRTAIVGAYGVLTWEKQYYAGVVFG...     197\n",
       " P25201  MIKTTEHIVNNSIERDYSKSISLEHRKKFAQFFTPFPIAYAMAKWI...     540\n",
       " Q82IY3  MSQHTFVAGTAPGAVPVVGHAWQMMRRPLHFMSSLSAHGDLVKIRI...     449\n",
       " O64642  MADGGAEPPAPPSSINAGEFLLSILHGSPSPSSQGPQHHQSFALDP...     764\n",
       " ...                                                   ...     ...\n",
       " O14220  MNSNEIENFIYLNNTLLSEVPEPNSVFYTPKCFSNSKLPHQSDLEE...     344\n",
       " O83805  MRMAFMLLALLFSFRNASIQAEDARLLQPKTNALDLVVQGVDLVLF...     240\n",
       " P34531  MNKSHLGTADNPQEVVTAHDIGRLVDVVNVGKGFLRYVGPIHGKDG...     937\n",
       " P38307  MDAVILNLLGDIPLVTRLWTIGCLVLSGLTSLRIVDPGKVVYSYDL...     211\n",
       " Q9UT33  MSFYDEIELEDFTFDAGTNLYTFPCPCGDRFEISLEDLQLGEDVAR...      79\n",
       " \n",
       " [500 rows x 2 columns]}"
      ]
     },
     "execution_count": 41,
     "metadata": {},
     "output_type": "execute_result"
    }
   ],
   "source": [
    "root= './data/'\n",
    "seq_files = {\n",
    "    'test': 'ec_vs_NOec_pide20_c50_test.fasta',\n",
    "    'train': 'ec_vs_NOec_pide20_c50_train.fasta',\n",
    "    'val': 'ec_vs_NOec_pide20_c50_val.fasta'    \n",
    "}\n",
    "data_sets = ['train','test','val']\n",
    "ec_annotation_file = 'merged_anno.txt'\n",
    "\n",
    "data_frames = {}\n",
    "\n",
    "for data_set in data_sets:\n",
    "    with open(root + seq_files[data_set]) as fasta:\n",
    "        ids = []\n",
    "        seqs = []\n",
    "        lengths = []\n",
    "        for title, seq in SimpleFastaParser(fasta):\n",
    "            ids.append(title)\n",
    "            seqs.append(seq)\n",
    "            lengths.append(len(seq))\n",
    "        data = {\"sequence\": seqs, \"length\": lengths}\n",
    "        data_frames[data_set] = pd.DataFrame(data=data,index=ids)\n",
    "data_frames"
   ]
  },
  {
   "cell_type": "code",
   "execution_count": 42,
   "metadata": {},
   "outputs": [
    {
     "data": {
      "text/html": [
       "<div>\n",
       "<style scoped>\n",
       "    .dataframe tbody tr th:only-of-type {\n",
       "        vertical-align: middle;\n",
       "    }\n",
       "\n",
       "    .dataframe tbody tr th {\n",
       "        vertical-align: top;\n",
       "    }\n",
       "\n",
       "    .dataframe thead th {\n",
       "        text-align: right;\n",
       "    }\n",
       "</style>\n",
       "<table border=\"1\" class=\"dataframe\">\n",
       "  <thead>\n",
       "    <tr style=\"text-align: right;\">\n",
       "      <th></th>\n",
       "      <th>EC</th>\n",
       "    </tr>\n",
       "    <tr>\n",
       "      <th>index</th>\n",
       "      <th></th>\n",
       "    </tr>\n",
       "  </thead>\n",
       "  <tbody>\n",
       "    <tr>\n",
       "      <th>Q827Q8</th>\n",
       "      <td>6.3.5.5</td>\n",
       "    </tr>\n",
       "    <tr>\n",
       "      <th>Q8G830</th>\n",
       "      <td>6.5.1.2</td>\n",
       "    </tr>\n",
       "    <tr>\n",
       "      <th>B9DIF1</th>\n",
       "      <td>5.4.99.62</td>\n",
       "    </tr>\n",
       "    <tr>\n",
       "      <th>Q8CWW2</th>\n",
       "      <td>6.1.1.21</td>\n",
       "    </tr>\n",
       "    <tr>\n",
       "      <th>A1W892</th>\n",
       "      <td>2.7.1.130</td>\n",
       "    </tr>\n",
       "    <tr>\n",
       "      <th>...</th>\n",
       "      <td>...</td>\n",
       "    </tr>\n",
       "    <tr>\n",
       "      <th>A5CEC9</th>\n",
       "      <td>6.3.5.-</td>\n",
       "    </tr>\n",
       "    <tr>\n",
       "      <th>Q4QLS4</th>\n",
       "      <td>2.3.3.13</td>\n",
       "    </tr>\n",
       "    <tr>\n",
       "      <th>Q2YUG0</th>\n",
       "      <td>2.3.1.234</td>\n",
       "    </tr>\n",
       "    <tr>\n",
       "      <th>Q8TFN2</th>\n",
       "      <td>2.7.11.1</td>\n",
       "    </tr>\n",
       "    <tr>\n",
       "      <th>Q5NNT2</th>\n",
       "      <td>3.1.26.4</td>\n",
       "    </tr>\n",
       "  </tbody>\n",
       "</table>\n",
       "<p>253502 rows × 1 columns</p>\n",
       "</div>"
      ],
      "text/plain": [
       "               EC\n",
       "index            \n",
       "Q827Q8    6.3.5.5\n",
       "Q8G830    6.5.1.2\n",
       "B9DIF1  5.4.99.62\n",
       "Q8CWW2   6.1.1.21\n",
       "A1W892  2.7.1.130\n",
       "...           ...\n",
       "A5CEC9    6.3.5.-\n",
       "Q4QLS4   2.3.3.13\n",
       "Q2YUG0  2.3.1.234\n",
       "Q8TFN2   2.7.11.1\n",
       "Q5NNT2   3.1.26.4\n",
       "\n",
       "[253502 rows x 1 columns]"
      ]
     },
     "execution_count": 42,
     "metadata": {},
     "output_type": "execute_result"
    }
   ],
   "source": [
    "annotations =  pd.read_csv(root + ec_annotation_file,sep=\"\\\\t\",names=['index','EC'],index_col=0, engine=\"python\")\n",
    "annotations"
   ]
  },
  {
   "cell_type": "code",
   "execution_count": 43,
   "metadata": {},
   "outputs": [],
   "source": [
    "for data_set in data_sets:\n",
    "    data_frames[data_set] = data_frames[data_set].merge(annotations,how=\"left\",left_index=True, right_index=True)"
   ]
  },
  {
   "cell_type": "markdown",
   "metadata": {},
   "source": [
    "# Statistics"
   ]
  },
  {
   "cell_type": "markdown",
   "metadata": {},
   "source": [
    "## #Enzym - #NonEnzym"
   ]
  },
  {
   "cell_type": "code",
   "execution_count": 44,
   "metadata": {},
   "outputs": [
    {
     "name": "stdout",
     "output_type": "stream",
     "text": [
      "train:\t#enzyms\t\t5821\n",
      "train:\t#non-enzyms\t27656\n",
      "test:\t#enzyms\t\t91\n",
      "test:\t#non-enzyms\t409\n",
      "val:\t#enzyms\t\t81\n",
      "val:\t#non-enzyms\t419\n"
     ]
    }
   ],
   "source": [
    "non_enzyms = {}\n",
    "enzyms = {}\n",
    "for data_set in data_sets:\n",
    "    df = data_frames[data_set]\n",
    "    non_enzyms[data_set] = df.loc[df['EC'].isna()]\n",
    "    enzyms[data_set] = df.loc[df['EC'].notna()]\n",
    "    print(\"{}:\\t#enzyms\\t\\t{}\".format(data_set, len(enzyms[data_set])))\n",
    "    print(\"{}:\\t#non-enzyms\\t{}\".format(data_set, len(non_enzyms[data_set])))"
   ]
  },
  {
   "cell_type": "markdown",
   "metadata": {},
   "source": [
    "## Sequence Lengths"
   ]
  },
  {
   "cell_type": "code",
   "execution_count": 45,
   "metadata": {},
   "outputs": [
    {
     "data": {
      "image/png": "[encoded data removed]",
      "text/plain": [
       "<Figure size 432x288 with 1 Axes>"
      ]
     },
     "metadata": {
      "needs_background": "light"
     },
     "output_type": "display_data"
    }
   ],
   "source": [
    "for data_set in data_sets:\n",
    "    df = data_frames[data_set]['length']\n",
    "    df.plot.kde(title=\"Length Distributions\", label=data_set+\"_all\", legend=True)\n",
    "    df_enz = enzyms[data_set]['length']\n",
    "    df_enz.plot.kde(title=\"Length Distributions\", label=data_set+\"_enz\", legend=True)\n",
    "    df_nonenz = non_enzyms[data_set]['length']\n",
    "    df_nonenz.plot.kde(title=\"Length Distributions\", label=data_set+\"_nonenz\", legend=True)"
   ]
  },
  {
   "cell_type": "markdown",
   "metadata": {},
   "source": [
    "# Predictions\n",
    "\n",
    "create a folder named `databases` and run these commands under that folder to create the matching results `databases/resultDB.m8`\n",
    "\n",
    "* `mmseqs createdb ../data/ec_vs_NOec_pide20_c50_test.fasta testDB`\n",
    "* `mmseqs createdb ../data/ec_vs_NOec_pide20_c50_train.fasta trainDB`\n",
    "* `mmseqs search testDB trainDB resultDB tmp --num-iterations 5 -s 7.0`\n",
    "* `mmseqs convertalis testDB trainDB resultDB resultDB.m8 --format-output \"query,target,evalue,raw\"`\n"
   ]
  },
  {
   "cell_type": "code",
   "execution_count": 37,
   "metadata": {
    "scrolled": true
   },
   "outputs": [
    {
     "data": {
      "text/html": [
       "<div>\n",
       "<style scoped>\n",
       "    .dataframe tbody tr th:only-of-type {\n",
       "        vertical-align: middle;\n",
       "    }\n",
       "\n",
       "    .dataframe tbody tr th {\n",
       "        vertical-align: top;\n",
       "    }\n",
       "\n",
       "    .dataframe thead th {\n",
       "        text-align: right;\n",
       "    }\n",
       "</style>\n",
       "<table border=\"1\" class=\"dataframe\">\n",
       "  <thead>\n",
       "    <tr style=\"text-align: right;\">\n",
       "      <th></th>\n",
       "      <th>query</th>\n",
       "      <th>target</th>\n",
       "      <th>e-val</th>\n",
       "      <th>score</th>\n",
       "    </tr>\n",
       "  </thead>\n",
       "  <tbody>\n",
       "    <tr>\n",
       "      <th>0</th>\n",
       "      <td>P55526</td>\n",
       "      <td>Q12204</td>\n",
       "      <td>2.947000e-04</td>\n",
       "      <td>98</td>\n",
       "    </tr>\n",
       "    <tr>\n",
       "      <th>1</th>\n",
       "      <td>Q2EET0</td>\n",
       "      <td>P04889</td>\n",
       "      <td>3.857000e-05</td>\n",
       "      <td>85</td>\n",
       "    </tr>\n",
       "    <tr>\n",
       "      <th>2</th>\n",
       "      <td>Q8HUH1</td>\n",
       "      <td>Q8F140</td>\n",
       "      <td>7.385000e-14</td>\n",
       "      <td>166</td>\n",
       "    </tr>\n",
       "    <tr>\n",
       "      <th>3</th>\n",
       "      <td>P21078</td>\n",
       "      <td>Q80HT6</td>\n",
       "      <td>2.041000e-05</td>\n",
       "      <td>98</td>\n",
       "    </tr>\n",
       "    <tr>\n",
       "      <th>4</th>\n",
       "      <td>Q9HDY1</td>\n",
       "      <td>P50275</td>\n",
       "      <td>1.810000e-19</td>\n",
       "      <td>227</td>\n",
       "    </tr>\n",
       "    <tr>\n",
       "      <th>...</th>\n",
       "      <td>...</td>\n",
       "      <td>...</td>\n",
       "      <td>...</td>\n",
       "      <td>...</td>\n",
       "    </tr>\n",
       "    <tr>\n",
       "      <th>812</th>\n",
       "      <td>Q86HT3</td>\n",
       "      <td>Q12238</td>\n",
       "      <td>3.612000e-04</td>\n",
       "      <td>80</td>\n",
       "    </tr>\n",
       "    <tr>\n",
       "      <th>813</th>\n",
       "      <td>Q86HT3</td>\n",
       "      <td>P73055</td>\n",
       "      <td>1.454000e-05</td>\n",
       "      <td>90</td>\n",
       "    </tr>\n",
       "    <tr>\n",
       "      <th>814</th>\n",
       "      <td>Q86HT3</td>\n",
       "      <td>Q9LF68</td>\n",
       "      <td>4.274000e-07</td>\n",
       "      <td>100</td>\n",
       "    </tr>\n",
       "    <tr>\n",
       "      <th>815</th>\n",
       "      <td>B0D1L7</td>\n",
       "      <td>O00258</td>\n",
       "      <td>1.437000e-09</td>\n",
       "      <td>133</td>\n",
       "    </tr>\n",
       "    <tr>\n",
       "      <th>816</th>\n",
       "      <td>Q9Y7Z4</td>\n",
       "      <td>F4HQ84</td>\n",
       "      <td>3.404000e-37</td>\n",
       "      <td>374</td>\n",
       "    </tr>\n",
       "  </tbody>\n",
       "</table>\n",
       "<p>817 rows × 4 columns</p>\n",
       "</div>"
      ],
      "text/plain": [
       "      query  target         e-val  score\n",
       "0    P55526  Q12204  2.947000e-04     98\n",
       "1    Q2EET0  P04889  3.857000e-05     85\n",
       "2    Q8HUH1  Q8F140  7.385000e-14    166\n",
       "3    P21078  Q80HT6  2.041000e-05     98\n",
       "4    Q9HDY1  P50275  1.810000e-19    227\n",
       "..      ...     ...           ...    ...\n",
       "812  Q86HT3  Q12238  3.612000e-04     80\n",
       "813  Q86HT3  P73055  1.454000e-05     90\n",
       "814  Q86HT3  Q9LF68  4.274000e-07    100\n",
       "815  B0D1L7  O00258  1.437000e-09    133\n",
       "816  Q9Y7Z4  F4HQ84  3.404000e-37    374\n",
       "\n",
       "[817 rows x 4 columns]"
      ]
     },
     "execution_count": 37,
     "metadata": {},
     "output_type": "execute_result"
    }
   ],
   "source": [
    "results =  pd.read_csv(\"databases/resultDB.m8\",sep=\"\\\\t\",names=['query','target','e-val','score'], engine=\"python\")\n",
    "results"
   ]
  },
  {
   "cell_type": "code",
   "execution_count": 65,
   "metadata": {},
   "outputs": [
    {
     "data": {
      "text/plain": [
       "151"
      ]
     },
     "execution_count": 65,
     "metadata": {},
     "output_type": "execute_result"
    }
   ],
   "source": [
    "len(results[\"query\"].unique())\n"
   ]
  },
  {
   "cell_type": "code",
   "execution_count": 140,
   "metadata": {},
   "outputs": [],
   "source": [
    "def get_binary_class(protein): # True if enzym\n",
    "    return protein in annotations.index\n",
    "def get_ec_top_level_class(protein):\n",
    "    return int(annotations.loc[protein]['EC'][0]) if protein in annotations.index else 0"
   ]
  },
  {
   "cell_type": "code",
   "execution_count": 145,
   "metadata": {},
   "outputs": [],
   "source": [
    "from functools import reduce\n",
    "from operator import add\n",
    "\n",
    "performance = {\n",
    "    \"binary\": {\n",
    "        \"accuracy\": 0.0,\n",
    "        \"recall\": 0.0,\n",
    "        \"precision\": 0.0,\n",
    "        \"TP\": 0,\n",
    "        \"FP\": 0,\n",
    "        \"TN\": 0,\n",
    "        \"FN\": 0,\n",
    "        \"unmatched\": {\n",
    "            \"enzyme\": 0,\n",
    "            \"non-enzyme\": 0,\n",
    "        }\n",
    "    },\n",
    "    \"multiclass\": {\n",
    "        \"accuracy\" : 0.0,\n",
    "        \"classes\" : {\n",
    "            0: {\n",
    "                \"predicted\": 0,\n",
    "                \"not_predicted\": 0,\n",
    "                \"unmatched\": 0\n",
    "            },\n",
    "            1: {\n",
    "                \"predicted\": 0,\n",
    "                \"not_predicted\": 0,\n",
    "                \"unmatched\": 0\n",
    "            },\n",
    "            2: {\n",
    "                \"predicted\": 0,\n",
    "                \"not_predicted\": 0,\n",
    "                \"unmatched\": 0\n",
    "            },\n",
    "            3: {\n",
    "                \"predicted\": 0,\n",
    "                \"not_predicted\": 0,\n",
    "                \"unmatched\": 0\n",
    "            },\n",
    "            4: {\n",
    "                \"predicted\": 0,\n",
    "                \"not_predicted\": 0,\n",
    "                \"unmatched\": 0\n",
    "            },\n",
    "            5: {\n",
    "                \"predicted\": 0,\n",
    "                \"not_predicted\": 0,\n",
    "                \"unmatched\": 0\n",
    "            },\n",
    "            6: {\n",
    "                \"predicted\": 0,\n",
    "                \"not_predicted\": 0,\n",
    "                \"unmatched\": 0\n",
    "            },\n",
    "            7: {\n",
    "                \"predicted\": 0,\n",
    "                \"not_predicted\": 0,\n",
    "                \"unmatched\": 0\n",
    "            }\n",
    "        }\n",
    "    }\n",
    "}\n",
    "for prot in data_frames[\"test\"].index:\n",
    "    binary_label = get_binary_class(prot)\n",
    "    top_level_class = get_ec_top_level_class(prot)\n",
    "        \n",
    "    if prot in results['query'].unique():\n",
    "        match = results.loc[results[\"query\"] == prot].sort_values(by=['score'], ascending=False).iloc[0][\"target\"]\n",
    "        \n",
    "        bin_prediction = get_binary_class(match)\n",
    "        if binary_label:\n",
    "            if bin_prediction:\n",
    "                performance[\"binary\"][\"TP\"] += 1\n",
    "            else:\n",
    "                performance[\"binary\"][\"FN\"] += 1\n",
    "        else:\n",
    "            if bin_prediction:\n",
    "                performance[\"binary\"][\"FP\"] += 1\n",
    "            else:\n",
    "                performance[\"binary\"][\"TN\"] += 1\n",
    "                \n",
    "        top_level_class_pred = get_ec_top_level_class(match)\n",
    "    \n",
    "        if top_level_class == top_level_class_pred:\n",
    "            performance[\"multiclass\"][\"classes\"][top_level_class][\"predicted\"] += 1\n",
    "        else:\n",
    "            performance[\"multiclass\"][\"classes\"][top_level_class][\"not_predicted\"] += 1\n",
    "    else:\n",
    "        if binary_label:\n",
    "            performance[\"binary\"][\"unmatched\"][\"enzyme\"] += 1\n",
    "        else:\n",
    "            performance[\"binary\"][\"unmatched\"][\"non-enzyme\"] += 1\n",
    "            \n",
    "        performance[\"multiclass\"][\"classes\"][top_level_class][\"unmatched\"] += 1\n",
    "        \n",
    "performance[\"binary\"][\"accuracy\"] = (performance[\"binary\"][\"TP\"] + performance[\"binary\"][\"TN\"]) / len(data_frames[\"test\"])\n",
    "performance[\"binary\"][\"recall\"] = performance[\"binary\"][\"TP\"] / (performance[\"binary\"][\"TP\"] + performance[\"binary\"][\"FN\"] + performance[\"binary\"][\"unmatched\"][\"enzyme\"])\n",
    "performance[\"binary\"][\"precision\"] = performance[\"binary\"][\"TP\"] / (performance[\"binary\"][\"TP\"] + performance[\"binary\"][\"FP\"])\n",
    "\n",
    "performance[\"multiclass\"][\"accuracy\"] = reduce(add, list(map(lambda i: performance[\"multiclass\"][\"classes\"][i][\"predicted\"], list(range(1,8))))) / len(data_frames[\"test\"])"
   ]
  },
  {
   "cell_type": "code",
   "execution_count": 146,
   "metadata": {},
   "outputs": [
    {
     "data": {
      "text/plain": [
       "{'binary': {'accuracy': 0.292,\n",
       "  'recall': 0.45054945054945056,\n",
       "  'precision': 0.9111111111111111,\n",
       "  'TP': 41,\n",
       "  'FP': 4,\n",
       "  'TN': 105,\n",
       "  'FN': 1,\n",
       "  'unmatched': {'enzyme': 49, 'non-enzyme': 300}},\n",
       " 'multiclass': {'accuracy': 0.072,\n",
       "  'classes': {0: {'predicted': 105, 'not_predicted': 4, 'unmatched': 300},\n",
       "   1: {'predicted': 7, 'not_predicted': 2, 'unmatched': 8},\n",
       "   2: {'predicted': 17, 'not_predicted': 1, 'unmatched': 15},\n",
       "   3: {'predicted': 12, 'not_predicted': 0, 'unmatched': 20},\n",
       "   4: {'predicted': 0, 'not_predicted': 1, 'unmatched': 0},\n",
       "   5: {'predicted': 0, 'not_predicted': 1, 'unmatched': 4},\n",
       "   6: {'predicted': 0, 'not_predicted': 0, 'unmatched': 2},\n",
       "   7: {'predicted': 0, 'not_predicted': 1, 'unmatched': 0}}}}"
      ]
     },
     "execution_count": 146,
     "metadata": {},
     "output_type": "execute_result"
    }
   ],
   "source": [
    "performance"
   ]
  }
 ],
 "metadata": {
  "kernelspec": {
   "display_name": "Python 3",
   "language": "python",
   "name": "python3"
  },
  "language_info": {
   "codemirror_mode": {
    "name": "ipython",
    "version": 3
   },
   "file_extension": ".py",
   "mimetype": "text/x-python",
   "name": "python",
   "nbconvert_exporter": "python",
   "pygments_lexer": "ipython3",
   "version": "3.8.5"
  }
 },
 "nbformat": 4,
 "nbformat_minor": 4
}
