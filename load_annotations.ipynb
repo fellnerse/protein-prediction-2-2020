{
 "cells": [
  {
   "cell_type": "code",
   "execution_count": 3,
   "metadata": {},
   "outputs": [],
   "source": [
    "from Bio.SeqIO.FastaIO import SimpleFastaParser\n",
    "import pandas as pd"
   ]
  },
  {
   "cell_type": "code",
   "execution_count": 4,
   "metadata": {},
   "outputs": [],
   "source": [
    "root_directory='/media/johannes/Crucial SSD/PP2CS/'\n",
    "fasta_filenames ={\n",
    "'test': 'ec_vs_NOec_pide20_c50_test.fasta',\n",
    "'train': 'ec_vs_NOec_pide20_c50_train.fasta',\n",
    "'val': 'ec_vs_NOec_pide20_c50_val.fasta'    \n",
    "}\n",
    "\n",
    "identifiers = []\n",
    "data_set_seqs = {'train': [], 'val':[], 'test': []}\n",
    "data_set_names = {'train': [], 'val':[], 'test': []}\n",
    "\n",
    "for dataset in ['train','test','val']:\n",
    "    with open(root_directory + fasta_filenames[dataset]) as fasta_file:  # Will close handle cleanly\n",
    "\n",
    "        for title, sequence in SimpleFastaParser(fasta_file):\n",
    "            data_set_names[dataset].append(title.split(None, 1)[0])  # First word is ID\n",
    "            data_set_seqs[dataset].append(sequence)\n",
    "            "
   ]
  },
  {
   "cell_type": "code",
   "execution_count": 5,
   "metadata": {},
   "outputs": [
    {
     "name": "stderr",
     "output_type": "stream",
     "text": [
      "<ipython-input-5-1f619168d6fe>:1: ParserWarning: Falling back to the 'python' engine because the 'c' engine does not support regex separators (separators > 1 char and different from '\\s+' are interpreted as regex); you can avoid this warning by specifying engine='python'.\n",
      "  annotations =  pd.read_csv(root_directory + 'merged_anno.txt',sep=\"\\\\t\",names=['index','EC'],index_col=0)\n"
     ]
    },
    {
     "data": {
      "text/plain": "               EC\nindex            \nQ827Q8    6.3.5.5\nQ8G830    6.5.1.2\nB9DIF1  5.4.99.62\nQ8CWW2   6.1.1.21\nA1W892  2.7.1.130\n...           ...\nA5CEC9    6.3.5.-\nQ4QLS4   2.3.3.13\nQ2YUG0  2.3.1.234\nQ8TFN2   2.7.11.1\nQ5NNT2   3.1.26.4\n\n[253502 rows x 1 columns]",
      "text/html": "<div>\n<style scoped>\n    .dataframe tbody tr th:only-of-type {\n        vertical-align: middle;\n    }\n\n    .dataframe tbody tr th {\n        vertical-align: top;\n    }\n\n    .dataframe thead th {\n        text-align: right;\n    }\n</style>\n<table border=\"1\" class=\"dataframe\">\n  <thead>\n    <tr style=\"text-align: right;\">\n      <th></th>\n      <th>EC</th>\n    </tr>\n    <tr>\n      <th>index</th>\n      <th></th>\n    </tr>\n  </thead>\n  <tbody>\n    <tr>\n      <th>Q827Q8</th>\n      <td>6.3.5.5</td>\n    </tr>\n    <tr>\n      <th>Q8G830</th>\n      <td>6.5.1.2</td>\n    </tr>\n    <tr>\n      <th>B9DIF1</th>\n      <td>5.4.99.62</td>\n    </tr>\n    <tr>\n      <th>Q8CWW2</th>\n      <td>6.1.1.21</td>\n    </tr>\n    <tr>\n      <th>A1W892</th>\n      <td>2.7.1.130</td>\n    </tr>\n    <tr>\n      <th>...</th>\n      <td>...</td>\n    </tr>\n    <tr>\n      <th>A5CEC9</th>\n      <td>6.3.5.-</td>\n    </tr>\n    <tr>\n      <th>Q4QLS4</th>\n      <td>2.3.3.13</td>\n    </tr>\n    <tr>\n      <th>Q2YUG0</th>\n      <td>2.3.1.234</td>\n    </tr>\n    <tr>\n      <th>Q8TFN2</th>\n      <td>2.7.11.1</td>\n    </tr>\n    <tr>\n      <th>Q5NNT2</th>\n      <td>3.1.26.4</td>\n    </tr>\n  </tbody>\n</table>\n<p>253502 rows × 1 columns</p>\n</div>"
     },
     "execution_count": 5,
     "metadata": {},
     "output_type": "execute_result"
    }
   ],
   "source": [
    "annotations =  pd.read_csv(root_directory + 'merged_anno.txt',sep=\"\\\\t\",names=['index','EC'],index_col=0)\n",
    "annotations"
   ]
  },
  {
   "cell_type": "code",
   "execution_count": 6,
   "outputs": [
    {
     "data": {
      "text/plain": "{'train': 292.3255668070616, 'test': 292.322, 'val': 295.266}"
     },
     "execution_count": 6,
     "metadata": {},
     "output_type": "execute_result"
    }
   ],
   "source": [
    "#Get average sequence length\n",
    "avg_seqlength = {'train': 0, 'test': 0, 'val': 0}\n",
    "for set in data_set_seqs:\n",
    "    avg_seqlength[set] = len(''.join(data_set_seqs[set]))/float(len(data_set_seqs[set]))\n",
    "avg_seqlength"
   ],
   "metadata": {
    "collapsed": false,
    "pycharm": {
     "name": "#%%\n"
    }
   }
  },
  {
   "cell_type": "code",
   "execution_count": 7,
   "outputs": [
    {
     "data": {
      "text/plain": "{'train': 5821, 'test': 91, 'val': 81}"
     },
     "execution_count": 7,
     "metadata": {},
     "output_type": "execute_result"
    }
   ],
   "source": [
    "num_enzymes = {'train': 0, 'test': 0, 'val': 0}\n",
    "for set in data_set_names:\n",
    "    for name in data_set_names[set]:\n",
    "        if name in annotations.index:\n",
    "            num_enzymes[set] += 1\n",
    "num_enzymes"
   ],
   "metadata": {
    "collapsed": false,
    "pycharm": {
     "name": "#%%\n"
    }
   }
  },
  {
   "cell_type": "code",
   "execution_count": 8,
   "outputs": [
    {
     "name": "stdout",
     "output_type": "stream",
     "text": [
      "train avg seq length: \t\t292.3255668070616\n",
      "train total nr of proteins: \t33477\n",
      "train total nr of enzymes: \t5821\n",
      "train enzyme pct: \t\t0.1738805747229441 %\n",
      "val avg seq length: \t\t295.266\n",
      "val total nr of proteins: \t500\n",
      "val total nr of enzymes: \t81\n",
      "val enzyme pct: \t\t0.162 %\n",
      "test avg seq length: \t\t292.322\n",
      "test total nr of proteins: \t500\n",
      "test total nr of enzymes: \t91\n",
      "test enzyme pct: \t\t0.182 %\n"
     ]
    }
   ],
   "source": [
    "for x in data_set_names:\n",
    "    print (\"{0} avg seq length: \\t\\t{1}\".format(x, avg_seqlength[x]))\n",
    "    print (\"{0} total nr of proteins: \\t{1}\".format(x, len(data_set_names[x])))\n",
    "    print (\"{0} total nr of enzymes: \\t{1}\".format(x, num_enzymes[x]))\n",
    "    print (\"{0} enzyme pct: \\t\\t{1} %\".format(x, num_enzymes[x]/float(len(data_set_names[x]))))"
   ],
   "metadata": {
    "collapsed": false,
    "pycharm": {
     "name": "#%%\n"
    }
   }
  },
  {
   "cell_type": "code",
   "execution_count": null,
   "outputs": [],
   "source": [
    "import numpy as np\n",
    "import h5py\n",
    "\n",
    "embeddings = dict()\n",
    "\n",
    "with h5py.File(root_directory + 'ec_vs_NOec_pide20_c50_train.h5', 'r') as f:\n",
    "    # List all groups\n",
    "    #print(\"Keys: %s\" % f.keys())\n",
    "    a_group_key = list(f.keys())[0]\n",
    "    for key in f.keys():\n",
    "        embeddings[key] = np.array(f[key][:]) # needs about 40GB RAM"
   ],
   "metadata": {
    "collapsed": false,
    "pycharm": {
     "name": "#%%\n",
     "is_executing": true
    }
   }
  },
  {
   "cell_type": "code",
   "execution_count": null,
   "outputs": [],
   "source": [],
   "metadata": {
    "collapsed": false,
    "pycharm": {
     "name": "#%%\n",
     "is_executing": true
    }
   }
  }
 ],
 "metadata": {
  "kernelspec": {
   "display_name": "Python 3",
   "language": "python",
   "name": "python3"
  },
  "language_info": {
   "codemirror_mode": {
    "name": "ipython",
    "version": 3
   },
   "file_extension": ".py",
   "mimetype": "text/x-python",
   "name": "python",
   "nbconvert_exporter": "python",
   "pygments_lexer": "ipython3",
   "version": "3.7.3"
  }
 },
 "nbformat": 4,
 "nbformat_minor": 2
}