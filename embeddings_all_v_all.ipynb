{
 "cells": [
  {
   "cell_type": "code",
   "execution_count": 1,
   "metadata": {},
   "outputs": [],
   "source": [
    "from Bio.SeqIO.FastaIO import SimpleFastaParser\n",
    "import pandas as pd\n",
    "import numpy as np"
   ]
  },
  {
   "cell_type": "code",
   "execution_count": 2,
   "outputs": [],
   "source": [
    "root='/media/johannes/Crucial SSD/PP2CS/'\n",
    "seq_files = {\n",
    "    'test': 'ec_vs_NOec_pide20_c50_test.fasta',\n",
    "    'train': 'ec_vs_NOec_pide20_c50_train.fasta',\n",
    "    'val': 'ec_vs_NOec_pide20_c50_val.fasta'\n",
    "}\n",
    "data_sets = ['train','test','val']\n",
    "ec_annotation_file = 'merged_anno.txt'\n",
    "\n",
    "data_frames = {}\n",
    "\n",
    "for data_set in data_sets:\n",
    "    with open(root + seq_files[data_set]) as fasta:\n",
    "        ids = []\n",
    "        seqs = []\n",
    "        lengths = []\n",
    "        for title, seq in SimpleFastaParser(fasta):\n",
    "            ids.append(title)\n",
    "            seqs.append(seq)\n",
    "            lengths.append(len(seq))\n",
    "        data = {\"sequence\": seqs, \"length\": lengths,\"dataset\":data_set}\n",
    "        data_frames[data_set] = pd.DataFrame(data=data,index=ids)\n",
    "annotations =  pd.read_csv(root + ec_annotation_file,sep=\"\\\\t\",names=['index','EC'],index_col=0, engine=\"python\")\n",
    "\n",
    "for data_set in data_sets:\n",
    "    data_frames[data_set] = data_frames[data_set].merge(annotations,how=\"left\",left_index=True, right_index=True)\n",
    "    data_frames[data_set]['ec_or_nc'] = np.where(data_frames[data_set]['EC'].isna(), 'NC', 'EC')"
   ],
   "metadata": {
    "collapsed": false,
    "pycharm": {
     "name": "#%%\n"
    }
   }
  },
  {
   "cell_type": "code",
   "execution_count": 3,
   "outputs": [
    {
     "name": "stdout",
     "output_type": "stream",
     "text": [
      "Keys: <KeysViewHDF5 ['A0A023PZC7', 'A0A023PZE6', 'A0A163UT06', 'A0A411KUP5', 'A0QRX9', 'A1L4Q6', 'A3MWN7', 'A3RGB0', 'A4R2Q6', 'A5D7C3', 'A5TZH0', 'A5UQF4', 'A6NNP5', 'A6VLC4', 'A7KAI8', 'A7UZ95', 'A7XCE8', 'A8E657', 'A8ESZ6', 'A8FDN5', 'A8HMZ4', 'A8MTZ7', 'A8QHQ0', 'B2A2M1', 'B3DHH5', 'B4YNG0', 'B7M9S5', 'B8II14', 'C0HJE6', 'C4XIR5', 'C6Y4B9', 'D0N4E0', 'D3Z9M3', 'D4AN96', 'D5KXG8', 'E1WAB4', 'F4KCE9', 'F5HEN7', 'F5HGJ4', 'G0S902', 'G2TRP5', 'G2TRR5', 'G5ECG2', 'J3K844', 'K7EIQ3', 'O07623', 'O07636', 'O10339', 'O13532', 'O13714', 'O13954', 'O14050', 'O14220', 'O19888', 'O23550', 'O25711', 'O26133', 'O27941', 'O28187', 'O28280', 'O28700', 'O28816', 'O29484', 'O29496', 'O29762', 'O29839', 'O30238', 'O30248', 'O31878', 'O31897', 'O31915', 'O32126', 'O32864', 'O34843', 'O35870', 'O43676', 'O43952', 'O48459', 'O52728', 'O53780', 'O61764', 'O64221', 'O64642', 'O67062', 'O67818', 'O71191', 'O74466', 'O80678', 'O80996', 'O82289', 'O82391', 'O83391', 'O83705', 'O83711', 'O83777', 'O83805', 'O83870', 'O94197', 'O94597', 'P03164', 'P03208', 'P03515', 'P03739', 'P03860', 'P03934', 'P04929', 'P04981', 'P05729', 'P06425', 'P06599', 'P06849', 'P07261', 'P07266', 'P08136', 'P08747', 'P08921', 'P09176', 'P09461', 'P09549', 'P09816', 'P0A2S8', 'P0AAZ1', 'P0AF76', 'P0C130', 'P0C1T5', 'P0C5K2', 'P0C5M7', 'P0C5Y7', 'P0C747', 'P0C841', 'P0C842', 'P0C8Z5', 'P0CAJ5', 'P0CJ95', 'P0CU21', 'P0CV53', 'P0CY28', 'P0DJQ7', 'P0DJY2', 'P0DL35', 'P0DMB2', 'P0DPZ5', 'P0DQE4', 'P0DSF4', 'P0DSP7', 'P0DTX9', 'P11111', 'P11112', 'P12552', 'P13604', 'P13702', 'P14998', 'P15281', 'P15369', 'P15488', 'P15688', 'P15972', 'P16539', 'P16692', 'P16796', 'P16930', 'P17105', 'P18035', 'P19369', 'P20519', 'P21308', 'P22960', 'P23629', 'P23735', 'P24891', 'P25201', 'P25572', 'P25738', 'P25923', 'P27187', 'P30653', 'P30661', 'P31526', 'P31862', 'P32806', 'P34531', 'P34554', 'P34560', 'P34566', 'P34645', 'P35678', 'P36140', 'P37249', 'P38195', 'P38296', 'P38307', 'P38826', 'P39297', 'P39497', 'P39639', 'P39797', 'P40022', 'P40534', 'P40948', 'P41881', 'P42083', 'P42543', 'P43047', 'P43215', 'P44321', 'P44476', 'P45428', 'P45505', 'P45619', 'P45874', 'P46042', 'P46910', 'P46954', 'P47184', 'P47475', 'P49828', 'P50109', 'P50325', 'P50534', 'P50744', 'P50835', 'P52423', 'P52614', 'P53072', 'P53186', 'P53291', 'P53511', 'P54682', 'P55521', 'P55729', 'P56200', 'P56943', 'P59036', 'P59203', 'P61417', 'P63211', 'P64451', 'P68608', 'P68717', 'P74095', 'P75204', 'P75472', 'P75737', 'P76349', 'P77427', 'P80232', 'P81322', 'P83057', 'P84197', 'P86720', 'P92550', 'P96076', 'P96635', 'P9WFM4', 'P9WJ38', 'P9WJ66', 'P9WJ86', 'P9WL00', 'P9WLX2', 'P9WMB7', 'Q00124', 'Q00146', 'Q00147', 'Q01027', 'Q01965', 'Q02587', 'Q02950', 'Q03313', 'Q04341', 'Q04368', 'Q04469', 'Q05129', 'Q05222', 'Q05285', 'Q05491', 'Q07451', 'Q07732', 'Q07838', 'Q08539', 'Q09525', 'Q09702', 'Q0C3U2', 'Q0DRX6', 'Q0IY07', 'Q0JMB2', 'Q10063', 'Q10080', 'Q12245', 'Q12292', 'Q12352', 'Q14641', 'Q148J6', 'Q17635', 'Q17RN3', 'Q18235', 'Q182W3', 'Q18616', 'Q18LD3', 'Q19040', 'Q197A0', 'Q1PE40', 'Q1QZ29', 'Q1XDC3', 'Q20806', 'Q21045', 'Q24472', 'Q25BJ3', 'Q27483', 'Q2A1G5', 'Q2FHL2', 'Q2PFU1', 'Q2RKA1', 'Q2RNI6', 'Q2TBQ6', 'Q2V3S8', 'Q2V472', 'Q32KT0', 'Q32LC2', 'Q38200', 'Q38423', 'Q3E7A7', 'Q3V4W7', 'Q45973', 'Q45FN5', 'Q46999', 'Q48509', 'Q48514', 'Q49126', 'Q4Z971', 'Q52328', 'Q53EK2', 'Q53H64', 'Q53K52', 'Q54B95', 'Q54B97', 'Q54J20', 'Q54LF0', 'Q54MA0', 'Q54PY9', 'Q54QQ2', 'Q54UB0', 'Q54UJ5', 'Q54VK3', 'Q556Y8', 'Q558X5', 'Q57347', 'Q573D4', 'Q57677', 'Q57788', 'Q58086', 'Q58215', 'Q58582', 'Q58703', 'Q58724', 'Q58781', 'Q58867', 'Q58996', 'Q5A1V3', 'Q5BK38', 'Q5E9H9', 'Q5E9L4', 'Q5F362', 'Q5F499', 'Q5M845', 'Q5PP38', 'Q5RAB0', 'Q5RC94', 'Q5RCI9', 'Q5RDW9', 'Q5T036', 'Q5T750', 'Q5UP04', 'Q5UP67', 'Q5UPL0', 'Q5UPN0', 'Q5UQ28', 'Q5UQD9', 'Q5UQT6', 'Q5UQU7', 'Q5UQZ0', 'Q5UR28', 'Q5XV31', 'Q5ZIA2', 'Q66643', 'Q682V0', 'Q6C531', 'Q6E0U4', 'Q6F4M9', 'Q6NQK9', 'Q6NTJ3', 'Q6P026', 'Q6PD82', 'Q6PFL6', 'Q6PK04', 'Q6QGD3', 'Q6TMJ9', 'Q6ZQT0', 'Q6ZRG5', 'Q6ZV56', 'Q7ATH9', 'Q7LKV3', 'Q7T1K4', 'Q7VKJ6', 'Q7VSX6', 'Q7YR46', 'Q80912', 'Q80ZG0', 'Q811A2', 'Q82IY3', 'Q86H60', 'Q86KD3', 'Q86YS3', 'Q88JG8', 'Q89681', 'Q8BVK9', 'Q8C0G2', 'Q8EQA1', 'Q8ESU7', 'Q8G6K4', 'Q8HZ00', 'Q8IYI0', 'Q8JFQ4', 'Q8SS49', 'Q8SUE9', 'Q8TE49', 'Q8TEL6', 'Q8TGR5', 'Q8TXG4', 'Q8TYT4', 'Q8U8R2', 'Q8VEG0', 'Q8VYL1', 'Q8W485', 'Q8Y9T5', 'Q8ZNR3', 'Q914M7', 'Q93AL9', 'Q967U1', 'Q969Q6', 'Q96M15', 'Q96N03', 'Q96PP8', 'Q96QH2', 'Q97YD5', 'Q99074', 'Q9BQE6', 'Q9BW27', 'Q9CN81', 'Q9CND4', 'Q9CPD8', 'Q9CR14', 'Q9D2D9', 'Q9D6K8', 'Q9D7N3', 'Q9DBX3', 'Q9FFD8', 'Q9FKA5', 'Q9FVW4', 'Q9G055', 'Q9GPR3', 'Q9HDY5', 'Q9HR76', 'Q9HTW3', 'Q9HUK7', 'Q9I745', 'Q9JKA8', 'Q9KQ40', 'Q9LFA5', 'Q9LND7', 'Q9LP07', 'Q9M310', 'Q9P3A9', 'Q9P7D5', 'Q9P7J0', 'Q9P7V6', 'Q9RN06', 'Q9S728', 'Q9SJ07', 'Q9SN95', 'Q9T1U1', 'Q9UT33', 'Q9UTJ3', 'Q9UTR7', 'Q9UUD9', 'Q9VAD6', 'Q9VES1', 'Q9VFX3', 'Q9VGZ5', 'Q9X1H2', 'Q9XEX2', 'Q9XIA7', 'Q9XJQ9', 'Q9Y7N1', 'Q9YX38', 'Q9Z0D5', 'Q9Z6S0', 'Q9ZDG9', 'Q9ZGI1', 'Q9ZQZ6', 'Q9ZUB9']>\n",
      "0.0\n",
      "0.029871254891417988\n",
      "0.059742509782835976\n",
      "0.08961376467425397\n",
      "0.11948501956567195\n",
      "0.14935627445708993\n",
      "0.17922752934850794\n",
      "0.20909878423992592\n",
      "0.2389700391313439\n",
      "0.2688412940227619\n",
      "0.29871254891417987\n",
      "0.3285838038055979\n",
      "0.3584550586970159\n",
      "0.38832631358843384\n",
      "0.41819756847985184\n",
      "0.44806882337126985\n",
      "0.4779400782626878\n",
      "0.5078113331541058\n",
      "0.5376825880455238\n",
      "0.5675538429369418\n",
      "0.5974250978283597\n",
      "0.6272963527197778\n",
      "0.6571676076111957\n",
      "0.6870388625026137\n",
      "0.7169101173940318\n",
      "0.7467813722854497\n",
      "0.7766526271768677\n",
      "0.8065238820682857\n",
      "0.8363951369597037\n",
      "0.8662663918511216\n",
      "0.8961376467425397\n",
      "0.9260089016339577\n",
      "0.9558801565253756\n",
      "0.9857514114167936\n",
      "Finished loading training embeddings\n"
     ]
    }
   ],
   "source": [
    "import h5py\n",
    "import torch\n",
    "\n",
    "embeddings_train = dict()\n",
    "embeddings_val = dict()\n",
    "\n",
    "with h5py.File(root + 'ec_vs_NOec_pide20_c50_val.h5', 'r') as f:\n",
    "    # List all groups\n",
    "    print(\"Keys: %s\" % f.keys())\n",
    "    a_group_key = list(f.keys())[0]\n",
    "    for key in f.keys():\n",
    "        embeddings_val[key] = np.array(f[key][:]) # needs about 600MB RAM\n",
    "\n",
    "\n",
    "pos_dict = dict()\n",
    "emb_train_list = []\n",
    "embeddings_train_concat = torch.empty([sum(data_frames['train']['length']), 1024], dtype=torch.float32)\n",
    "with h5py.File(root + 'ec_vs_NOec_pide20_c50_train.h5', 'r') as f:\n",
    "    # List all groups\n",
    "    a_group_key = list(f.keys())[0]\n",
    "    pos = 0\n",
    "    for i, key in enumerate(f.keys()):\n",
    "        if i %1000 == 0:\n",
    "            print (i/len(f.keys()))\n",
    "        embeddings_train_concat[pos:pos + len(f[key])] = torch.tensor(f[key][:], dtype=torch.float32)\n",
    "        for x in range(pos, pos + len(f[key])):\n",
    "            pos_dict[x] = key\n",
    "        pos += len(f[key]) # store last position of protein sequence\n",
    "print (\"Finished loading training embeddings\")"
   ],
   "metadata": {
    "collapsed": false,
    "pycharm": {
     "name": "#%%\n"
    }
   }
  },
  {
   "cell_type": "code",
   "execution_count": 4,
   "outputs": [],
   "source": [
    "# Basic idea:\n",
    "# for all residue embeddings of a protein in the dev/test set\n",
    "#   go through all residue embeddings of the train set\n",
    "#   note category of most similar embedding in train set\n",
    "# do majority vote to determine category of the protein in the dev/test set\n",
    "\n",
    "torch.set_num_threads(12)\n",
    "\n",
    "def most_similar_in_train(b,b_n, emb):\n",
    "    sim_names = [\"EMPTY\"] * emb.shape[0]\n",
    "    # Source https://en.wikipedia.org/wiki/Cosine_similarity\n",
    "    concat_res = torch.Tensor()\n",
    "    emb = torch.chunk(emb, int(emb.shape[0]/250 + 1)) # RAM dependent\n",
    "    for a in emb:\n",
    "        with torch.no_grad():\n",
    "            upper = torch.matmul(a,b.T)\n",
    "            a_n = a.norm(dim=1)[:, None]\n",
    "            lower = torch.matmul(a_n, b_n.T)\n",
    "            cosine_similarity = upper/lower + 1e-8 # eps for stability\n",
    "            arg_cur_max = torch.argmax(cosine_similarity,dim=1)\n",
    "            del cosine_similarity,a,lower,upper\n",
    "            concat_res = torch.cat([concat_res, arg_cur_max])\n",
    "    for i, res in enumerate(concat_res):\n",
    "        sim_names[i] = pos_dict[res.item()]\n",
    "    for index, name in enumerate(sim_names):\n",
    "        sim_names[index] = data_frames['train']['ec_or_nc'][name]\n",
    "    return sim_names #data_frames['train']['ec_or_nc'][sim_prot]\n"
   ],
   "metadata": {
    "collapsed": false,
    "pycharm": {
     "name": "#%%\n"
    }
   }
  },
  {
   "cell_type": "code",
   "execution_count": null,
   "outputs": [
    {
     "name": "stdout",
     "output_type": "stream",
     "text": [
      "Protein Q2V3S8: Predicted: NC, Actual: NC\n",
      "Vote ended: 0 EC vs 83 NC\n",
      "Protein Q9VES1: Predicted: NC, Actual: NC\n",
      "Vote ended: 12 EC vs 185 NC\n",
      "Protein P25201: Predicted: EC, Actual: EC\n",
      "Vote ended: 277 EC vs 263 NC\n",
      "Protein Q82IY3: Predicted: EC, Actual: EC\n",
      "Vote ended: 333 EC vs 116 NC\n",
      "Protein O64642: Predicted: NC, Actual: EC\n",
      "Vote ended: 307 EC vs 457 NC\n",
      "Protein Q48509: Predicted: NC, Actual: NC\n",
      "Vote ended: 1 EC vs 61 NC\n",
      "Protein P0DL35: Predicted: NC, Actual: NC\n",
      "Vote ended: 0 EC vs 66 NC\n",
      "Protein P37249: Predicted: NC, Actual: NC\n",
      "Vote ended: 38 EC vs 136 NC\n",
      "Protein Q8ZNR3: Predicted: NC, Actual: EC\n",
      "Vote ended: 113 EC vs 669 NC\n",
      "Protein P50534: Predicted: NC, Actual: EC\n",
      "Vote ended: 119 EC vs 654 NC\n",
      "Protein P15972: Predicted: NC, Actual: NC\n",
      "Vote ended: 1 EC vs 64 NC\n",
      "Protein P16796: Predicted: NC, Actual: NC\n",
      "Vote ended: 0 EC vs 66 NC\n",
      "Protein P19369: Predicted: NC, Actual: NC\n",
      "Vote ended: 5 EC vs 65 NC\n",
      "Protein P74095: Predicted: NC, Actual: NC\n",
      "Vote ended: 29 EC vs 47 NC\n"
     ]
    }
   ],
   "source": [
    "pred = dict()\n",
    "b = embeddings_train_concat\n",
    "b_n = b.norm(dim=1)[:, None] \n",
    "for i, protein in enumerate(data_frames['val'].index):\n",
    "    sim = most_similar_in_train(b, b_n, torch.tensor(embeddings_val[protein], dtype=torch.float32))\n",
    "    if sim.count(\"EC\") > sim.count(\"NC\"):\n",
    "        res = \"EC\"\n",
    "    else:\n",
    "        res = \"NC\"\n",
    "    print (\"Protein \" + protein+ \": Predicted: \" + res + \", Actual: \" + data_frames['val']['ec_or_nc'][protein])\n",
    "    print (\"Vote ended: {} EC vs {} NC\".format(sim.count(\"EC\"), sim.count(\"NC\")))\n",
    "    pred[protein] = res"
   ],
   "metadata": {
    "collapsed": false,
    "pycharm": {
     "name": "#%%\n",
     "is_executing": true
    }
   }
  },
  {
   "cell_type": "code",
   "execution_count": null,
   "outputs": [],
   "source": [
    "print (data_frames['train']['ec_or_nc']['Q4ZJZ1'])\n",
    "print (data_frames['train']['ec_or_nc']['P0DL49'])\n",
    "print (data_frames['train']['ec_or_nc']['Q4ZJZ2'])\n",
    "print (data_frames['train']['ec_or_nc']['P82746'])\n",
    "print (sim.count(\"EC\"))\n",
    "print (sim.count(\"NC\"))"
   ],
   "metadata": {
    "collapsed": false,
    "pycharm": {
     "name": "#%%\n"
    }
   }
  },
  {
   "cell_type": "code",
   "execution_count": null,
   "outputs": [],
   "source": [],
   "metadata": {
    "collapsed": false,
    "pycharm": {
     "name": "#%%\n"
    }
   }
  }
 ],
 "metadata": {
  "kernelspec": {
   "display_name": "Python 3",
   "language": "python",
   "name": "python3"
  },
  "language_info": {
   "codemirror_mode": {
    "name": "ipython",
    "version": 3
   },
   "file_extension": ".py",
   "mimetype": "text/x-python",
   "name": "python",
   "nbconvert_exporter": "python",
   "pygments_lexer": "ipython3",
   "version": "3.7.3"
  }
 },
 "nbformat": 4,
 "nbformat_minor": 2
}