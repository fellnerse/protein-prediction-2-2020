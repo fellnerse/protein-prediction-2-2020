{
 "cells": [
  {
   "cell_type": "code",
   "execution_count": 61,
   "metadata": {
    "collapsed": true
   },
   "outputs": [],
   "source": [
    "import h5py\n",
    "import torch\n",
    "from Bio.SeqIO.FastaIO import SimpleFastaParser\n",
    "from torch import nn\n",
    "import torch.nn.functional as F\n",
    "from torch.utils.data import Dataset\n",
    "import pandas as pd\n",
    "import numpy as np\n",
    "\n",
    "root='/media/johannes/Crucial SSD/PP2CS/'\n",
    "seq_files = {\n",
    "    'test': 'ec_vs_NOec_pide20_c50_test.fasta',\n",
    "    'train': 'ec_vs_NOec_pide20_c50_train.fasta',\n",
    "    'val': 'ec_vs_NOec_pide20_c50_val.fasta'\n",
    "}\n",
    "data_sets = ['train','test','val']\n",
    "ec_annotation_file = 'merged_anno.txt'\n",
    "device = 'cuda' if torch.cuda.is_available() else 'cpu'"
   ]
  },
  {
   "cell_type": "code",
   "execution_count": 78,
   "outputs": [],
   "source": [
    "class ProteinDataset(Dataset):\n",
    "    def __init__(self, ds=\"train\"):\n",
    "        self.path = root + 'ec_vs_NOec_pide20_c50_' + ds + '.h5'\n",
    "        with h5py.File(self.path, 'r') as f:\n",
    "            self.key_map = dict()\n",
    "            self.keys = list(f.keys())\n",
    "            for i, key in enumerate(self.keys):\n",
    "                self.key_map[i] = key\n",
    "        with open(root + seq_files[ds]) as fasta:\n",
    "            ids = []\n",
    "            seqs = []\n",
    "            lengths = []\n",
    "            for title, seq in SimpleFastaParser(fasta):\n",
    "                ids.append(title)\n",
    "                seqs.append(seq)\n",
    "                lengths.append(len(seq))\n",
    "            data = {\"sequence\": seqs, \"length\": lengths}\n",
    "            self.data_frame = pd.DataFrame(data=data,index=ids)\n",
    "        annotations =  pd.read_csv(root + ec_annotation_file,sep=\"\\\\t\",names=['index','EC'],index_col=0, engine=\"python\")\n",
    "\n",
    "        self.data_frame = self.data_frame.merge(annotations,how=\"left\",left_index=True, right_index=True)\n",
    "        self.data_frame['ec_or_nc'] = np.where(self.data_frame['EC'].isna(), 'NC', 'EC')\n",
    "        pass\n",
    "\n",
    "    def __len__(self):\n",
    "        return len(self.keys)\n",
    "\n",
    "    def __getitem__(self, index):\n",
    "        key = self.key_map[index]\n",
    "        with h5py.File(self.path, 'r') as f:\n",
    "            embeddings = torch.tensor(f[key][:], dtype=torch.float32).T\n",
    "        if self.data_frame['ec_or_nc'][key] in 'EC':\n",
    "            bin_label = torch.Tensor([1])\n",
    "        else:\n",
    "            bin_label = torch.Tensor([0])\n",
    "        return [embeddings, bin_label]\n",
    "\n",
    "trainset = ProteinDataset(\"train\")\n",
    "valset = ProteinDataset(\"val\")\n",
    "trainloader = torch.utils.data.DataLoader(trainset, batch_size=1,\n",
    "                                          shuffle=True, num_workers=12)\n",
    "valloader = torch.utils.data.DataLoader(valset, batch_size=1,\n",
    "                                          shuffle=True, num_workers=12)"
   ],
   "metadata": {
    "collapsed": false,
    "pycharm": {
     "name": "#%%\n"
    }
   }
  },
  {
   "cell_type": "code",
   "execution_count": 79,
   "outputs": [],
   "source": [
    "class Net(nn.Module):\n",
    "    def __init__(self):\n",
    "        super(Net, self).__init__()\n",
    "        self.conv1 = nn.Conv1d(1024, 32, 7)\n",
    "        self.conv2 = nn.Conv1d(32, 1, 7)\n",
    "        self.pool = nn.AdaptiveMaxPool1d(256)\n",
    "        self.fc1 = nn.Linear(256, 128)\n",
    "        self.fc2 = nn.Linear(128, 32)\n",
    "        self.fc3 = nn.Linear(32, 1)\n",
    "\n",
    "    def forward(self, x):\n",
    "        x = F.relu(self.conv1(x))\n",
    "        x = F.relu(self.conv2(x))\n",
    "        x = self.pool(x)\n",
    "        x = F.relu(self.fc1(x))\n",
    "        x = F.relu(self.fc2(x))\n",
    "        x = self.fc3(x)\n",
    "        return x\n",
    "\n",
    "net = Net().to(device)"
   ],
   "metadata": {
    "collapsed": false,
    "pycharm": {
     "name": "#%%\n"
    }
   }
  },
  {
   "cell_type": "code",
   "execution_count": 90,
   "outputs": [
    {
     "name": "stdout",
     "output_type": "stream",
     "text": [
      "[1,  2000] loss: 0.271\n",
      "[1,  4000] loss: 0.258\n",
      "[1,  6000] loss: 0.246\n",
      "[1,  8000] loss: 0.231\n",
      "[1, 10000] loss: 0.243\n",
      "[1, 12000] loss: 0.243\n",
      "[1, 14000] loss: 0.244\n",
      "[1, 16000] loss: 0.227\n",
      "[1, 18000] loss: 0.233\n",
      "[1, 20000] loss: 0.235\n",
      "[1, 22000] loss: 0.224\n",
      "[1, 24000] loss: 0.238\n",
      "[1, 26000] loss: 0.208\n",
      "[1, 28000] loss: 0.218\n",
      "[1, 30000] loss: 0.229\n",
      "[1, 32000] loss: 0.237\n",
      "[2,  2000] loss: 0.201\n",
      "[2,  4000] loss: 0.195\n",
      "[2,  6000] loss: 0.233\n",
      "[2,  8000] loss: 0.207\n",
      "[2, 10000] loss: 0.217\n",
      "[2, 12000] loss: 0.182\n",
      "[2, 14000] loss: 0.214\n",
      "[2, 16000] loss: 0.200\n",
      "[2, 18000] loss: 0.214\n",
      "[2, 20000] loss: 0.202\n",
      "[2, 22000] loss: 0.227\n",
      "[2, 24000] loss: 0.230\n",
      "[2, 26000] loss: 0.219\n",
      "[2, 28000] loss: 0.213\n",
      "[2, 30000] loss: 0.219\n",
      "[2, 32000] loss: 0.194\n",
      "Finished Training\n"
     ]
    }
   ],
   "source": [
    "import torch.optim as optim\n",
    "\n",
    "criterion = nn.BCEWithLogitsLoss()\n",
    "optimizer = optim.Adam(net.parameters(), lr=0.001)\n",
    "\n",
    "for epoch in range(2):  # loop over the dataset multiple times\n",
    "\n",
    "    running_loss = 0.0\n",
    "    for i, data in enumerate(trainloader, 0):\n",
    "        inputs, labels = data\n",
    "        inputs,labels = inputs.to(device), labels.to(device)\n",
    "\n",
    "\n",
    "        # forward + backward + optimize\n",
    "        outputs = net(inputs)\n",
    "        outputs.squeeze_(1)\n",
    "        loss = criterion(outputs, labels)\n",
    "        loss.backward()\n",
    "        if i % 64 == 0:\n",
    "            optimizer.step()\n",
    "            optimizer.zero_grad()\n",
    "        # print statistics\n",
    "        running_loss += loss.item()\n",
    "        if i % 2000 == 1999:    # print every 2000 mini-batches\n",
    "            print('[%d, %5d] loss: %.3f' %\n",
    "                  (epoch + 1, i + 1, running_loss / 2000))\n",
    "            running_loss = 0.0\n",
    "\n",
    "print('Finished Training')"
   ],
   "metadata": {
    "collapsed": false,
    "pycharm": {
     "name": "#%%\n"
    }
   }
  },
  {
   "cell_type": "code",
   "execution_count": 91,
   "outputs": [
    {
     "name": "stdout",
     "output_type": "stream",
     "text": [
      "Accuracy of the network on the dev set: 92 %\n",
      "              precision    recall  f1-score   support\n",
      "\n",
      "         0.0       0.95      0.96      0.95       419\n",
      "         1.0       0.77      0.74      0.75        81\n",
      "\n",
      "    accuracy                           0.92       500\n",
      "   macro avg       0.86      0.85      0.85       500\n",
      "weighted avg       0.92      0.92      0.92       500\n",
      "\n",
      "[[401  18]\n",
      " [ 21  60]]\n"
     ]
    }
   ],
   "source": [
    "correct = 0\n",
    "total = 0\n",
    "y_pred = []\n",
    "y_true = []\n",
    "with torch.no_grad():\n",
    "    for data in valloader:\n",
    "        embeddings, labels = data\n",
    "        embeddings,labels = embeddings.to(device), labels.to(device)\n",
    "        outputs = net(embeddings)\n",
    "        outputs = F.sigmoid(outputs)\n",
    "        predicted = torch.round(outputs.data)\n",
    "        total += labels.size(0)\n",
    "        correct += (predicted == labels).sum().item()\n",
    "        y_pred.append(predicted.item())\n",
    "        y_true.append(labels.item())\n",
    "\n",
    "print('Accuracy of the network on the dev set: %d %%' % (\n",
    "    100 * correct / total))\n",
    "\n",
    "import sklearn.metrics\n",
    "\n",
    "print(sklearn.metrics.classification_report(y_true, y_pred))\n",
    "print(sklearn.metrics.confusion_matrix(y_true,y_pred))"
   ],
   "metadata": {
    "collapsed": false,
    "pycharm": {
     "name": "#%%\n"
    }
   }
  },
  {
   "cell_type": "code",
   "execution_count": null,
   "outputs": [],
   "source": [],
   "metadata": {
    "collapsed": false,
    "pycharm": {
     "name": "#%%\n"
    }
   }
  }
 ],
 "metadata": {
  "kernelspec": {
   "display_name": "Python 3",
   "language": "python",
   "name": "python3"
  },
  "language_info": {
   "codemirror_mode": {
    "name": "ipython",
    "version": 2
   },
   "file_extension": ".py",
   "mimetype": "text/x-python",
   "name": "python",
   "nbconvert_exporter": "python",
   "pygments_lexer": "ipython2",
   "version": "2.7.6"
  }
 },
 "nbformat": 4,
 "nbformat_minor": 0
}